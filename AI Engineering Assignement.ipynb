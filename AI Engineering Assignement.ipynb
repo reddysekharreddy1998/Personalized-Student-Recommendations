{
 "cells": [
  {
   "cell_type": "code",
   "execution_count": 1,
   "id": "59ad0b9e",
   "metadata": {},
   "outputs": [],
   "source": [
    "import requests\n",
    "import pandas as pd\n",
    "import numpy as np\n",
    "import matplotlib.pyplot as plt\n",
    "import seaborn as sns\n",
    "from sklearn.linear_model import LinearRegression\n",
    "from sklearn.model_selection import train_test_split\n",
    "from collections import defaultdict\n",
    "\n",
    "# Fetching data from API endpoints\n",
    "quiz_endpoint = \"https://www.jsonkeeper.com/b/LLQT\"\n",
    "quiz_submission_endpoint = \"https://api.jsonserve.com/rJvd7g\"\n",
    "historical_quiz_endpoint = \"https://api.jsonserve.com/XgAgFJ\""
   ]
  },
  {
   "cell_type": "code",
   "execution_count": 2,
   "id": "723ef927",
   "metadata": {},
   "outputs": [],
   "source": [
    "# Function to get quiz data\n",
    "def fetch_quiz_data(endpoint):\n",
    "    response = requests.get(endpoint)\n",
    "    if response.status_code == 200:\n",
    "        return response.json()\n",
    "    else:\n",
    "        print(\"Failed to fetch quiz data\")\n",
    "        return None\n",
    "\n",
    "# Function to get quiz submission data\n",
    "def fetch_submission_data(endpoint):\n",
    "    response = requests.get(endpoint)\n",
    "    if response.status_code == 200:\n",
    "        return response.json()\n",
    "    else:\n",
    "        print(\"Failed to fetch quiz submission data\")\n",
    "        return None\n",
    "\n",
    "# Function to get historical quiz data\n",
    "def fetch_historical_data(endpoint):\n",
    "    response = requests.get(endpoint)\n",
    "    if response.status_code == 200:\n",
    "        return response.json()\n",
    "    else:\n",
    "        print(\"Failed to fetch historical quiz data\")\n",
    "        return None"
   ]
  },
  {
   "cell_type": "code",
   "execution_count": 3,
   "id": "aa958748",
   "metadata": {},
   "outputs": [],
   "source": [
    "# Fetch current quiz, submission, and historical data\n",
    "quiz_data = fetch_quiz_data(quiz_endpoint)\n",
    "submission_data = fetch_submission_data(quiz_submission_endpoint)\n",
    "historical_data = fetch_historical_data(historical_quiz_endpoint)"
   ]
  },
  {
   "cell_type": "code",
   "execution_count": 4,
   "id": "e1f2ab95",
   "metadata": {},
   "outputs": [],
   "source": [
    "# Analyzing the quiz data\n",
    "def analyze_quiz_data(quiz_data):\n",
    "    # Extracting important fields from quiz data\n",
    "    quiz_details = {\n",
    "        \"quiz_id\": quiz_data.get(\"id\"),\n",
    "        \"title\": quiz_data.get(\"title\"),\n",
    "        \"duration\": quiz_data.get(\"duration\"),\n",
    "        \"questions_count\": quiz_data.get(\"questions_count\"),\n",
    "        \"negative_marks\": quiz_data.get(\"negative_marks\"),\n",
    "        \"correct_answer_marks\": quiz_data.get(\"correct_answer_marks\"),\n",
    "        \"end_time\": quiz_data.get(\"end_time\"),\n",
    "    }\n",
    "    \n",
    "    # Getting question-level insights\n",
    "    questions = quiz_data.get(\"questions\", [])\n",
    "    question_topics = defaultdict(int)\n",
    "    for question in questions:\n",
    "        topic = question.get(\"topic\")\n",
    "        if topic:\n",
    "            question_topics[topic] += 1\n",
    "            \n",
    "    return quiz_details, question_topics\n",
    "\n",
    "# Analyzing the submission data\n",
    "def analyze_submission_data(submission_data):\n",
    "    score = submission_data.get(\"score\")\n",
    "    accuracy = submission_data.get(\"accuracy\")\n",
    "    correct_answers = submission_data.get(\"correct_answers\")\n",
    "    incorrect_answers = submission_data.get(\"incorrect_answers\")\n",
    "    \n",
    "    performance_insights = {\n",
    "        \"score\": score,\n",
    "        \"accuracy\": accuracy,\n",
    "        \"correct_answers\": correct_answers,\n",
    "        \"incorrect_answers\": incorrect_answers,\n",
    "        \"response_map\": submission_data.get(\"response_map\"),\n",
    "    }\n",
    "    \n",
    "    return performance_insights"
   ]
  },
  {
   "cell_type": "code",
   "execution_count": 5,
   "id": "e54e286b",
   "metadata": {},
   "outputs": [],
   "source": [
    "# Analyzing historical quiz performance\n",
    "def analyze_historical_data(historical_data):\n",
    "    # Extracting performance data for the last 5 quizzes\n",
    "    historical_scores = [entry.get(\"score\") for entry in historical_data]\n",
    "    historical_accuracies = [entry.get(\"accuracy\") for entry in historical_data]\n",
    "    \n",
    "    return historical_scores, historical_accuracies"
   ]
  },
  {
   "cell_type": "code",
   "execution_count": 6,
   "id": "01bcbdfb",
   "metadata": {},
   "outputs": [],
   "source": [
    "# Generate recommendations based on performance\n",
    "def generate_recommendations(performance_insights, question_topics, historical_scores):\n",
    "    weak_areas = []\n",
    "    for topic, count in question_topics.items():\n",
    "        if count < 5:  # If a topic has fewer questions in the quiz\n",
    "            weak_areas.append(f\"Focus more on {topic}\")\n",
    "    \n",
    "    # Based on performance score, recommend focus on areas with lower performance\n",
    "    score_trend = np.mean(historical_scores)\n",
    "    if performance_insights[\"score\"] < score_trend:\n",
    "        weak_areas.append(\"Consider revising topics where you're scoring lower.\")\n",
    "    \n",
    "    # Suggest focus areas based on weak performance\n",
    "    recommendations = {\n",
    "        \"suggested_topics\": weak_areas,\n",
    "        \"improvement_steps\": [\"Revise previous quizzes\", \"Focus on weak areas\", \"Practice more difficult questions\"],\n",
    "    }\n",
    "    \n",
    "    return recommendations"
   ]
  },
  {
   "cell_type": "code",
   "execution_count": 7,
   "id": "38f06a0e",
   "metadata": {},
   "outputs": [],
   "source": [
    "# Probabilistic Model for NEET rank prediction\n",
    "def predict_neet_rank(historical_scores, quiz_scores):\n",
    "    # Ensure both historical_scores and quiz_scores have the same length\n",
    "    if len(historical_scores) != len(quiz_scores):\n",
    "        print(\"Mismatch in the number of historical scores and quiz scores.\")\n",
    "        return None\n",
    "    \n",
    "    X = np.array(historical_scores).reshape(-1, 1)  # Historical scores as features\n",
    "    y = np.array(quiz_scores)  # Corresponding quiz scores as target\n",
    "    \n",
    "    # Train a simple linear regression model to predict rank\n",
    "    model = LinearRegression()\n",
    "    model.fit(X, y)\n",
    "    \n",
    "    predicted_rank = model.predict([[quiz_scores[-1]]])  # Predict rank based on the last quiz score\n",
    "    return predicted_rank"
   ]
  },
  {
   "cell_type": "code",
   "execution_count": 8,
   "id": "5b749e8b",
   "metadata": {},
   "outputs": [],
   "source": [
    "# Visualize student performance trends\n",
    "def visualize_performance(historical_scores, historical_accuracies):\n",
    "    plt.figure(figsize=(10, 6))\n",
    "    plt.plot(historical_scores, label=\"Scores\", marker='o')\n",
    "    plt.plot(historical_accuracies, label=\"Accuracy\", marker='x')\n",
    "    plt.title(\"Student Performance Over Last Quizzes\")\n",
    "    plt.xlabel(\"Quiz Number\")\n",
    "    plt.ylabel(\"Performance\")\n",
    "    plt.legend()\n",
    "    plt.show()"
   ]
  },
  {
   "cell_type": "code",
   "execution_count": 9,
   "id": "84d1840f",
   "metadata": {},
   "outputs": [
    {
     "data": {
      "image/png": "[encoded data removed]",
      "text/plain": [
       "<Figure size 720x432 with 1 Axes>"
      ]
     },
     "metadata": {
      "needs_background": "light"
     },
     "output_type": "display_data"
    }
   ],
   "source": [
    "# Process the fetched data and generate output\n",
    "quiz_details, question_topics = analyze_quiz_data(quiz_data)\n",
    "performance_insights = analyze_submission_data(submission_data)\n",
    "historical_scores, historical_accuracies = analyze_historical_data(historical_data)\n",
    "\n",
    "# Generate recommendations\n",
    "recommendations = generate_recommendations(performance_insights, question_topics, historical_scores)\n",
    "\n",
    "# Predict NEET rank\n",
    "predicted_rank = predict_neet_rank(historical_scores, [performance_insights[\"score\"] for _ in historical_scores])\n",
    "\n",
    "# Visualize performance\n",
    "visualize_performance(historical_scores, historical_accuracies)\n"
   ]
  },
  {
   "cell_type": "code",
   "execution_count": 10,
   "id": "2fd3e8c2",
   "metadata": {},
   "outputs": [
    {
     "name": "stdout",
     "output_type": "stream",
     "text": [
      "Recommendations: {'suggested_topics': [\"Consider revising topics where you're scoring lower.\"], 'improvement_steps': ['Revise previous quizzes', 'Focus on weak areas', 'Practice more difficult questions']}\n",
      "Predicted NEET Rank: 32.0\n"
     ]
    }
   ],
   "source": [
    "# Output the results\n",
    "print(f\"Recommendations: {recommendations}\")\n",
    "print(f\"Predicted NEET Rank: {predicted_rank[0] if predicted_rank is not None else 'Unable to predict rank'}\")"
   ]
  }
 ],
 "metadata": {
  "kernelspec": {
   "display_name": "Python 3",
   "language": "python",
   "name": "python3"
  },
  "language_info": {
   "codemirror_mode": {
    "name": "ipython",
    "version": 3
   },
   "file_extension": ".py",
   "mimetype": "text/x-python",
   "name": "python",
   "nbconvert_exporter": "python",
   "pygments_lexer": "ipython3",
   "version": "3.8.8"
  }
 },
 "nbformat": 4,
 "nbformat_minor": 5
}
